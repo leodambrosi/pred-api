{
 "cells": [
  {
   "cell_type": "markdown",
   "metadata": {},
   "source": [
    "### House prediction API"
   ]
  },
  {
   "cell_type": "code",
   "execution_count": 1,
   "metadata": {},
   "outputs": [
    {
     "name": "stdout",
     "output_type": "stream",
     "text": [
      "['housing.csv', 'information about housing.csv.txt', 'assignment.txt']\n"
     ]
    }
   ],
   "source": [
    "import numpy as np # linear algebra\n",
    "import pandas as pd # data processing, CSV file I/O (e.g. pd.read_csv)\n",
    "import os\n",
    "import pandasql as ps\n",
    "import matplotlib.pyplot as plt\n",
    "import seaborn as sns\n",
    "from scipy.stats import norm\n",
    "from sklearn.preprocessing import StandardScaler\n",
    "from scipy import stats\n",
    "import warnings\n",
    "warnings.filterwarnings('ignore')\n",
    "%matplotlib inline\n",
    "\n",
    "wd = \"data/\"\n",
    "print(os.listdir(wd))"
   ]
  },
  {
   "cell_type": "code",
   "execution_count": 3,
   "metadata": {},
   "outputs": [],
   "source": [
    "# load dataset\n",
    "train = pd.read_csv(wd+'housing.csv')"
   ]
  },
  {
   "cell_type": "code",
   "execution_count": 4,
   "metadata": {},
   "outputs": [
    {
     "data": {
      "text/html": [
       "<div>\n",
       "<style scoped>\n",
       "    .dataframe tbody tr th:only-of-type {\n",
       "        vertical-align: middle;\n",
       "    }\n",
       "\n",
       "    .dataframe tbody tr th {\n",
       "        vertical-align: top;\n",
       "    }\n",
       "\n",
       "    .dataframe thead th {\n",
       "        text-align: right;\n",
       "    }\n",
       "</style>\n",
       "<table border=\"1\" class=\"dataframe\">\n",
       "  <thead>\n",
       "    <tr style=\"text-align: right;\">\n",
       "      <th></th>\n",
       "      <th>crime_rate</th>\n",
       "      <th>avg_number_of_rooms</th>\n",
       "      <th>distance_to_employment_centers</th>\n",
       "      <th>property_tax_rate</th>\n",
       "      <th>pupil_teacher_ratio</th>\n",
       "      <th>house_value</th>\n",
       "    </tr>\n",
       "  </thead>\n",
       "  <tbody>\n",
       "    <tr>\n",
       "      <th>0</th>\n",
       "      <td>0.02731</td>\n",
       "      <td>6.421</td>\n",
       "      <td>4.9671</td>\n",
       "      <td>242.0</td>\n",
       "      <td>17.8</td>\n",
       "      <td>21.6</td>\n",
       "    </tr>\n",
       "    <tr>\n",
       "      <th>1</th>\n",
       "      <td>0.02729</td>\n",
       "      <td>7.185</td>\n",
       "      <td>4.9671</td>\n",
       "      <td>242.0</td>\n",
       "      <td>17.8</td>\n",
       "      <td>34.7</td>\n",
       "    </tr>\n",
       "    <tr>\n",
       "      <th>2</th>\n",
       "      <td>0.03237</td>\n",
       "      <td>6.998</td>\n",
       "      <td>6.0622</td>\n",
       "      <td>222.0</td>\n",
       "      <td>18.7</td>\n",
       "      <td>33.4</td>\n",
       "    </tr>\n",
       "    <tr>\n",
       "      <th>3</th>\n",
       "      <td>0.06905</td>\n",
       "      <td>7.147</td>\n",
       "      <td>6.0622</td>\n",
       "      <td>222.0</td>\n",
       "      <td>18.7</td>\n",
       "      <td>36.2</td>\n",
       "    </tr>\n",
       "    <tr>\n",
       "      <th>4</th>\n",
       "      <td>0.02985</td>\n",
       "      <td>6.430</td>\n",
       "      <td>6.0622</td>\n",
       "      <td>222.0</td>\n",
       "      <td>18.7</td>\n",
       "      <td>28.7</td>\n",
       "    </tr>\n",
       "  </tbody>\n",
       "</table>\n",
       "</div>"
      ],
      "text/plain": [
       "   crime_rate  avg_number_of_rooms  distance_to_employment_centers  \\\n",
       "0     0.02731                6.421                          4.9671   \n",
       "1     0.02729                7.185                          4.9671   \n",
       "2     0.03237                6.998                          6.0622   \n",
       "3     0.06905                7.147                          6.0622   \n",
       "4     0.02985                6.430                          6.0622   \n",
       "\n",
       "   property_tax_rate  pupil_teacher_ratio  house_value  \n",
       "0              242.0                 17.8         21.6  \n",
       "1              242.0                 17.8         34.7  \n",
       "2              222.0                 18.7         33.4  \n",
       "3              222.0                 18.7         36.2  \n",
       "4              222.0                 18.7         28.7  "
      ]
     },
     "execution_count": 4,
     "metadata": {},
     "output_type": "execute_result"
    }
   ],
   "source": [
    "train.head()"
   ]
  },
  {
   "cell_type": "code",
   "execution_count": 5,
   "metadata": {},
   "outputs": [
    {
     "data": {
      "text/html": [
       "<div>\n",
       "<style scoped>\n",
       "    .dataframe tbody tr th:only-of-type {\n",
       "        vertical-align: middle;\n",
       "    }\n",
       "\n",
       "    .dataframe tbody tr th {\n",
       "        vertical-align: top;\n",
       "    }\n",
       "\n",
       "    .dataframe thead th {\n",
       "        text-align: right;\n",
       "    }\n",
       "</style>\n",
       "<table border=\"1\" class=\"dataframe\">\n",
       "  <thead>\n",
       "    <tr style=\"text-align: right;\">\n",
       "      <th></th>\n",
       "      <th>crime_rate</th>\n",
       "      <th>avg_number_of_rooms</th>\n",
       "      <th>distance_to_employment_centers</th>\n",
       "      <th>property_tax_rate</th>\n",
       "      <th>pupil_teacher_ratio</th>\n",
       "      <th>house_value</th>\n",
       "    </tr>\n",
       "  </thead>\n",
       "  <tbody>\n",
       "    <tr>\n",
       "      <th>count</th>\n",
       "      <td>505.000000</td>\n",
       "      <td>505.000000</td>\n",
       "      <td>505.000000</td>\n",
       "      <td>505.000000</td>\n",
       "      <td>505.000000</td>\n",
       "      <td>505.000000</td>\n",
       "    </tr>\n",
       "    <tr>\n",
       "      <th>mean</th>\n",
       "      <td>3.620667</td>\n",
       "      <td>6.284059</td>\n",
       "      <td>3.794459</td>\n",
       "      <td>408.459406</td>\n",
       "      <td>18.461782</td>\n",
       "      <td>22.529901</td>\n",
       "    </tr>\n",
       "    <tr>\n",
       "      <th>std</th>\n",
       "      <td>8.608572</td>\n",
       "      <td>0.703195</td>\n",
       "      <td>2.107757</td>\n",
       "      <td>168.629992</td>\n",
       "      <td>2.162520</td>\n",
       "      <td>9.205991</td>\n",
       "    </tr>\n",
       "    <tr>\n",
       "      <th>min</th>\n",
       "      <td>0.009060</td>\n",
       "      <td>3.561000</td>\n",
       "      <td>1.129600</td>\n",
       "      <td>187.000000</td>\n",
       "      <td>12.600000</td>\n",
       "      <td>5.000000</td>\n",
       "    </tr>\n",
       "    <tr>\n",
       "      <th>25%</th>\n",
       "      <td>0.082210</td>\n",
       "      <td>5.885000</td>\n",
       "      <td>2.100000</td>\n",
       "      <td>279.000000</td>\n",
       "      <td>17.400000</td>\n",
       "      <td>17.000000</td>\n",
       "    </tr>\n",
       "    <tr>\n",
       "      <th>50%</th>\n",
       "      <td>0.259150</td>\n",
       "      <td>6.208000</td>\n",
       "      <td>3.199200</td>\n",
       "      <td>330.000000</td>\n",
       "      <td>19.100000</td>\n",
       "      <td>21.200000</td>\n",
       "    </tr>\n",
       "    <tr>\n",
       "      <th>75%</th>\n",
       "      <td>3.678220</td>\n",
       "      <td>6.625000</td>\n",
       "      <td>5.211900</td>\n",
       "      <td>666.000000</td>\n",
       "      <td>20.200000</td>\n",
       "      <td>25.000000</td>\n",
       "    </tr>\n",
       "    <tr>\n",
       "      <th>max</th>\n",
       "      <td>88.976200</td>\n",
       "      <td>8.780000</td>\n",
       "      <td>12.126500</td>\n",
       "      <td>711.000000</td>\n",
       "      <td>22.000000</td>\n",
       "      <td>50.000000</td>\n",
       "    </tr>\n",
       "  </tbody>\n",
       "</table>\n",
       "</div>"
      ],
      "text/plain": [
       "       crime_rate  avg_number_of_rooms  distance_to_employment_centers  \\\n",
       "count  505.000000           505.000000                      505.000000   \n",
       "mean     3.620667             6.284059                        3.794459   \n",
       "std      8.608572             0.703195                        2.107757   \n",
       "min      0.009060             3.561000                        1.129600   \n",
       "25%      0.082210             5.885000                        2.100000   \n",
       "50%      0.259150             6.208000                        3.199200   \n",
       "75%      3.678220             6.625000                        5.211900   \n",
       "max     88.976200             8.780000                       12.126500   \n",
       "\n",
       "       property_tax_rate  pupil_teacher_ratio  house_value  \n",
       "count         505.000000           505.000000   505.000000  \n",
       "mean          408.459406            18.461782    22.529901  \n",
       "std           168.629992             2.162520     9.205991  \n",
       "min           187.000000            12.600000     5.000000  \n",
       "25%           279.000000            17.400000    17.000000  \n",
       "50%           330.000000            19.100000    21.200000  \n",
       "75%           666.000000            20.200000    25.000000  \n",
       "max           711.000000            22.000000    50.000000  "
      ]
     },
     "execution_count": 5,
     "metadata": {},
     "output_type": "execute_result"
    }
   ],
   "source": [
    "train.describe()"
   ]
  },
  {
   "cell_type": "code",
   "execution_count": 6,
   "metadata": {},
   "outputs": [
    {
     "data": {
      "text/html": [
       "<div>\n",
       "<style scoped>\n",
       "    .dataframe tbody tr th:only-of-type {\n",
       "        vertical-align: middle;\n",
       "    }\n",
       "\n",
       "    .dataframe tbody tr th {\n",
       "        vertical-align: top;\n",
       "    }\n",
       "\n",
       "    .dataframe thead th {\n",
       "        text-align: right;\n",
       "    }\n",
       "</style>\n",
       "<table border=\"1\" class=\"dataframe\">\n",
       "  <thead>\n",
       "    <tr style=\"text-align: right;\">\n",
       "      <th></th>\n",
       "      <th>Missing Ratio</th>\n",
       "    </tr>\n",
       "  </thead>\n",
       "  <tbody>\n",
       "    <tr>\n",
       "      <th>crime_rate</th>\n",
       "      <td>0.0</td>\n",
       "    </tr>\n",
       "    <tr>\n",
       "      <th>avg_number_of_rooms</th>\n",
       "      <td>0.0</td>\n",
       "    </tr>\n",
       "    <tr>\n",
       "      <th>distance_to_employment_centers</th>\n",
       "      <td>0.0</td>\n",
       "    </tr>\n",
       "    <tr>\n",
       "      <th>property_tax_rate</th>\n",
       "      <td>0.0</td>\n",
       "    </tr>\n",
       "    <tr>\n",
       "      <th>pupil_teacher_ratio</th>\n",
       "      <td>0.0</td>\n",
       "    </tr>\n",
       "    <tr>\n",
       "      <th>house_value</th>\n",
       "      <td>0.0</td>\n",
       "    </tr>\n",
       "  </tbody>\n",
       "</table>\n",
       "</div>"
      ],
      "text/plain": [
       "                                Missing Ratio\n",
       "crime_rate                                0.0\n",
       "avg_number_of_rooms                       0.0\n",
       "distance_to_employment_centers            0.0\n",
       "property_tax_rate                         0.0\n",
       "pupil_teacher_ratio                       0.0\n",
       "house_value                               0.0"
      ]
     },
     "execution_count": 6,
     "metadata": {},
     "output_type": "execute_result"
    }
   ],
   "source": [
    "# check missing data\n",
    "train_na = (train.isnull().sum() / len(train)) * 100\n",
    "#train_na = train_na.drop(train_na[train_na == 0].index).sort_values(ascending=False)[:30]\n",
    "missing_data = pd.DataFrame({'Missing Ratio' :train_na})\n",
    "missing_data.head(20)"
   ]
  },
  {
   "cell_type": "code",
   "execution_count": 7,
   "metadata": {},
   "outputs": [
    {
     "data": {
      "text/html": [
       "<div>\n",
       "<style scoped>\n",
       "    .dataframe tbody tr th:only-of-type {\n",
       "        vertical-align: middle;\n",
       "    }\n",
       "\n",
       "    .dataframe tbody tr th {\n",
       "        vertical-align: top;\n",
       "    }\n",
       "\n",
       "    .dataframe thead th {\n",
       "        text-align: right;\n",
       "    }\n",
       "</style>\n",
       "<table border=\"1\" class=\"dataframe\">\n",
       "  <thead>\n",
       "    <tr style=\"text-align: right;\">\n",
       "      <th></th>\n",
       "      <th>crime_rate</th>\n",
       "      <th>avg_number_of_rooms</th>\n",
       "      <th>distance_to_employment_centers</th>\n",
       "      <th>property_tax_rate</th>\n",
       "      <th>pupil_teacher_ratio</th>\n",
       "      <th>house_value</th>\n",
       "    </tr>\n",
       "  </thead>\n",
       "  <tbody>\n",
       "    <tr>\n",
       "      <th>crime_rate</th>\n",
       "      <td>1.000000</td>\n",
       "      <td>-0.218978</td>\n",
       "      <td>-0.379627</td>\n",
       "      <td>0.582568</td>\n",
       "      <td>0.289394</td>\n",
       "      <td>-0.388249</td>\n",
       "    </tr>\n",
       "    <tr>\n",
       "      <th>avg_number_of_rooms</th>\n",
       "      <td>-0.218978</td>\n",
       "      <td>1.000000</td>\n",
       "      <td>0.205170</td>\n",
       "      <td>-0.291680</td>\n",
       "      <td>-0.355116</td>\n",
       "      <td>0.695365</td>\n",
       "    </tr>\n",
       "    <tr>\n",
       "      <th>distance_to_employment_centers</th>\n",
       "      <td>-0.379627</td>\n",
       "      <td>0.205170</td>\n",
       "      <td>1.000000</td>\n",
       "      <td>-0.534492</td>\n",
       "      <td>-0.232561</td>\n",
       "      <td>0.249896</td>\n",
       "    </tr>\n",
       "    <tr>\n",
       "      <th>property_tax_rate</th>\n",
       "      <td>0.582568</td>\n",
       "      <td>-0.291680</td>\n",
       "      <td>-0.534492</td>\n",
       "      <td>1.000000</td>\n",
       "      <td>0.460100</td>\n",
       "      <td>-0.468543</td>\n",
       "    </tr>\n",
       "    <tr>\n",
       "      <th>pupil_teacher_ratio</th>\n",
       "      <td>0.289394</td>\n",
       "      <td>-0.355116</td>\n",
       "      <td>-0.232561</td>\n",
       "      <td>0.460100</td>\n",
       "      <td>1.000000</td>\n",
       "      <td>-0.508411</td>\n",
       "    </tr>\n",
       "    <tr>\n",
       "      <th>house_value</th>\n",
       "      <td>-0.388249</td>\n",
       "      <td>0.695365</td>\n",
       "      <td>0.249896</td>\n",
       "      <td>-0.468543</td>\n",
       "      <td>-0.508411</td>\n",
       "      <td>1.000000</td>\n",
       "    </tr>\n",
       "  </tbody>\n",
       "</table>\n",
       "</div>"
      ],
      "text/plain": [
       "                                crime_rate  avg_number_of_rooms  \\\n",
       "crime_rate                        1.000000            -0.218978   \n",
       "avg_number_of_rooms              -0.218978             1.000000   \n",
       "distance_to_employment_centers   -0.379627             0.205170   \n",
       "property_tax_rate                 0.582568            -0.291680   \n",
       "pupil_teacher_ratio               0.289394            -0.355116   \n",
       "house_value                      -0.388249             0.695365   \n",
       "\n",
       "                                distance_to_employment_centers  \\\n",
       "crime_rate                                           -0.379627   \n",
       "avg_number_of_rooms                                   0.205170   \n",
       "distance_to_employment_centers                        1.000000   \n",
       "property_tax_rate                                    -0.534492   \n",
       "pupil_teacher_ratio                                  -0.232561   \n",
       "house_value                                           0.249896   \n",
       "\n",
       "                                property_tax_rate  pupil_teacher_ratio  \\\n",
       "crime_rate                               0.582568             0.289394   \n",
       "avg_number_of_rooms                     -0.291680            -0.355116   \n",
       "distance_to_employment_centers          -0.534492            -0.232561   \n",
       "property_tax_rate                        1.000000             0.460100   \n",
       "pupil_teacher_ratio                      0.460100             1.000000   \n",
       "house_value                             -0.468543            -0.508411   \n",
       "\n",
       "                                house_value  \n",
       "crime_rate                        -0.388249  \n",
       "avg_number_of_rooms                0.695365  \n",
       "distance_to_employment_centers     0.249896  \n",
       "property_tax_rate                 -0.468543  \n",
       "pupil_teacher_ratio               -0.508411  \n",
       "house_value                        1.000000  "
      ]
     },
     "execution_count": 7,
     "metadata": {},
     "output_type": "execute_result"
    }
   ],
   "source": [
    "train.corr()"
   ]
  },
  {
   "cell_type": "code",
   "execution_count": 8,
   "metadata": {},
   "outputs": [
    {
     "data": {
      "text/plain": [
       "<matplotlib.axes._subplots.AxesSubplot at 0x1a227872b0>"
      ]
     },
     "execution_count": 8,
     "metadata": {},
     "output_type": "execute_result"
    },
    {
     "data": {
      "image/png": "[encoded data removed]",
      "text/plain": [
       "<Figure size 864x648 with 2 Axes>"
      ]
     },
     "metadata": {
      "needs_background": "light"
     },
     "output_type": "display_data"
    }
   ],
   "source": [
    "#Correlation map to see how features are correlated with SalePrice\n",
    "corrmat = train.corr()\n",
    "plt.subplots(figsize=(12,9))\n",
    "sns.heatmap(corrmat, vmax=0.9, square=True)"
   ]
  },
  {
   "cell_type": "code",
   "execution_count": 9,
   "metadata": {},
   "outputs": [],
   "source": [
    "# chart some of highly correlated features\n",
    "def draw_housing_data_scatter(feature1, feature2):\n",
    "    plt.scatter(train[feature1], train[feature2])\n",
    "    corr = train.corr().ix[feature1, feature2]\n",
    "    plt.title('{} vs {} (corr={:.2f})'.format(feature1, feature2, corr))\n",
    "    plt.xlabel(feature1)\n",
    "    plt.ylabel(feature2)\n",
    "    plt.show()"
   ]
  },
  {
   "cell_type": "code",
   "execution_count": 10,
   "metadata": {},
   "outputs": [
    {
     "data": {
      "image/png": "[encoded data removed]",
      "text/plain": [
       "<Figure size 432x288 with 1 Axes>"
      ]
     },
     "metadata": {
      "needs_background": "light"
     },
     "output_type": "display_data"
    }
   ],
   "source": [
    "draw_housing_data_scatter(\n",
    "        'crime_rate',  \n",
    "        'house_value'\n",
    ")"
   ]
  },
  {
   "cell_type": "code",
   "execution_count": 11,
   "metadata": {},
   "outputs": [
    {
     "data": {
      "image/png": "[encoded data removed]",
      "text/plain": [
       "<Figure size 432x288 with 1 Axes>"
      ]
     },
     "metadata": {
      "needs_background": "light"
     },
     "output_type": "display_data"
    }
   ],
   "source": [
    "draw_housing_data_scatter(\n",
    "        'avg_number_of_rooms',  \n",
    "        'house_value'\n",
    ")"
   ]
  },
  {
   "cell_type": "code",
   "execution_count": 12,
   "metadata": {},
   "outputs": [
    {
     "data": {
      "text/html": [
       "<div>\n",
       "<style scoped>\n",
       "    .dataframe tbody tr th:only-of-type {\n",
       "        vertical-align: middle;\n",
       "    }\n",
       "\n",
       "    .dataframe tbody tr th {\n",
       "        vertical-align: top;\n",
       "    }\n",
       "\n",
       "    .dataframe thead th {\n",
       "        text-align: right;\n",
       "    }\n",
       "</style>\n",
       "<table border=\"1\" class=\"dataframe\">\n",
       "  <thead>\n",
       "    <tr style=\"text-align: right;\">\n",
       "      <th></th>\n",
       "      <th>house_value</th>\n",
       "    </tr>\n",
       "  </thead>\n",
       "  <tbody>\n",
       "    <tr>\n",
       "      <th>0</th>\n",
       "      <td>21.6</td>\n",
       "    </tr>\n",
       "    <tr>\n",
       "      <th>1</th>\n",
       "      <td>34.7</td>\n",
       "    </tr>\n",
       "    <tr>\n",
       "      <th>2</th>\n",
       "      <td>33.4</td>\n",
       "    </tr>\n",
       "    <tr>\n",
       "      <th>3</th>\n",
       "      <td>36.2</td>\n",
       "    </tr>\n",
       "    <tr>\n",
       "      <th>4</th>\n",
       "      <td>28.7</td>\n",
       "    </tr>\n",
       "  </tbody>\n",
       "</table>\n",
       "</div>"
      ],
      "text/plain": [
       "   house_value\n",
       "0         21.6\n",
       "1         34.7\n",
       "2         33.4\n",
       "3         36.2\n",
       "4         28.7"
      ]
     },
     "execution_count": 12,
     "metadata": {},
     "output_type": "execute_result"
    }
   ],
   "source": [
    "housing_prices = train.ix[:,['house_value']]\n",
    "housing_prices.head()"
   ]
  },
  {
   "cell_type": "code",
   "execution_count": 13,
   "metadata": {},
   "outputs": [
    {
     "data": {
      "text/html": [
       "<div>\n",
       "<style scoped>\n",
       "    .dataframe tbody tr th:only-of-type {\n",
       "        vertical-align: middle;\n",
       "    }\n",
       "\n",
       "    .dataframe tbody tr th {\n",
       "        vertical-align: top;\n",
       "    }\n",
       "\n",
       "    .dataframe thead th {\n",
       "        text-align: right;\n",
       "    }\n",
       "</style>\n",
       "<table border=\"1\" class=\"dataframe\">\n",
       "  <thead>\n",
       "    <tr style=\"text-align: right;\">\n",
       "      <th></th>\n",
       "      <th>crime_rate</th>\n",
       "      <th>avg_number_of_rooms</th>\n",
       "      <th>distance_to_employment_centers</th>\n",
       "      <th>property_tax_rate</th>\n",
       "      <th>pupil_teacher_ratio</th>\n",
       "    </tr>\n",
       "  </thead>\n",
       "  <tbody>\n",
       "    <tr>\n",
       "      <th>0</th>\n",
       "      <td>0.02731</td>\n",
       "      <td>6.421</td>\n",
       "      <td>4.9671</td>\n",
       "      <td>242.0</td>\n",
       "      <td>17.8</td>\n",
       "    </tr>\n",
       "    <tr>\n",
       "      <th>1</th>\n",
       "      <td>0.02729</td>\n",
       "      <td>7.185</td>\n",
       "      <td>4.9671</td>\n",
       "      <td>242.0</td>\n",
       "      <td>17.8</td>\n",
       "    </tr>\n",
       "    <tr>\n",
       "      <th>2</th>\n",
       "      <td>0.03237</td>\n",
       "      <td>6.998</td>\n",
       "      <td>6.0622</td>\n",
       "      <td>222.0</td>\n",
       "      <td>18.7</td>\n",
       "    </tr>\n",
       "    <tr>\n",
       "      <th>3</th>\n",
       "      <td>0.06905</td>\n",
       "      <td>7.147</td>\n",
       "      <td>6.0622</td>\n",
       "      <td>222.0</td>\n",
       "      <td>18.7</td>\n",
       "    </tr>\n",
       "    <tr>\n",
       "      <th>4</th>\n",
       "      <td>0.02985</td>\n",
       "      <td>6.430</td>\n",
       "      <td>6.0622</td>\n",
       "      <td>222.0</td>\n",
       "      <td>18.7</td>\n",
       "    </tr>\n",
       "  </tbody>\n",
       "</table>\n",
       "</div>"
      ],
      "text/plain": [
       "   crime_rate  avg_number_of_rooms  distance_to_employment_centers  \\\n",
       "0     0.02731                6.421                          4.9671   \n",
       "1     0.02729                7.185                          4.9671   \n",
       "2     0.03237                6.998                          6.0622   \n",
       "3     0.06905                7.147                          6.0622   \n",
       "4     0.02985                6.430                          6.0622   \n",
       "\n",
       "   property_tax_rate  pupil_teacher_ratio  \n",
       "0              242.0                 17.8  \n",
       "1              242.0                 17.8  \n",
       "2              222.0                 18.7  \n",
       "3              222.0                 18.7  \n",
       "4              222.0                 18.7  "
      ]
     },
     "execution_count": 13,
     "metadata": {},
     "output_type": "execute_result"
    }
   ],
   "source": [
    "housing_features = train.ix[:,0:-1]\n",
    "housing_features.head()"
   ]
  },
  {
   "cell_type": "code",
   "execution_count": 14,
   "metadata": {},
   "outputs": [],
   "source": [
    "from sklearn.model_selection import train_test_split\n",
    "\n",
    "\n",
    "#Randomly shuffle the sample set. \n",
    "#Divide it into training and testing set\n",
    "\n",
    "def prepare_train_test_data(feature_list, test_size):\n",
    "    X_train, X_test, y_train, y_test = train_test_split(housing_features[feature_list], \n",
    "                                                        housing_prices, \n",
    "                                                        test_size=test_size, \n",
    "                                                        random_state=1)\n",
    "    print('{}'.format(feature_list))\n",
    "    print('test_size={:.1f}%'.format(test_size*100))\n",
    "    print('X_train.shape={}'.format(X_train.shape))\n",
    "    print('y_train.shape={}'.format(y_train.shape))\n",
    "    print('X_test.shape={}'.format(X_test.shape))\n",
    "    print('y_test.shape={}'.format(y_test.shape))\n",
    "    \n",
    "    return X_train, X_test, y_train, y_test"
   ]
  },
  {
   "cell_type": "code",
   "execution_count": 15,
   "metadata": {},
   "outputs": [
    {
     "name": "stdout",
     "output_type": "stream",
     "text": [
      "Index(['crime_rate', 'avg_number_of_rooms', 'distance_to_employment_centers',\n",
      "       'property_tax_rate', 'pupil_teacher_ratio'],\n",
      "      dtype='object')\n",
      "test_size=10.0%\n",
      "X_train.shape=(454, 5)\n",
      "y_train.shape=(454, 1)\n",
      "X_test.shape=(51, 5)\n",
      "y_test.shape=(51, 1)\n"
     ]
    }
   ],
   "source": [
    "X_train, X_test, y_train, y_test = prepare_train_test_data(housing_features.columns, 0.1)"
   ]
  },
  {
   "cell_type": "code",
   "execution_count": 16,
   "metadata": {},
   "outputs": [
    {
     "name": "stdout",
     "output_type": "stream",
     "text": [
      "Coefficient\n",
      "[[-0.13005613  7.03437392 -0.18863495 -0.00922052 -0.85931009]]\n",
      "Intercept\n",
      "[-0.83998503]\n"
     ]
    }
   ],
   "source": [
    "from sklearn.linear_model import LinearRegression\n",
    "\n",
    "model = LinearRegression()\n",
    "model.fit(X_train, y_train)\n",
    "\n",
    "print(\"Coefficient\")\n",
    "print(model.coef_)\n",
    "print(\"Intercept\")\n",
    "print(model.intercept_)"
   ]
  },
  {
   "cell_type": "markdown",
   "metadata": {},
   "source": [
    "74% accuracy"
   ]
  },
  {
   "cell_type": "code",
   "execution_count": 17,
   "metadata": {},
   "outputs": [
    {
     "name": "stdout",
     "output_type": "stream",
     "text": [
      "0.7426127890174461\n"
     ]
    }
   ],
   "source": [
    "print(model.score(X_test, y_test))"
   ]
  },
  {
   "cell_type": "code",
   "execution_count": 18,
   "metadata": {},
   "outputs": [],
   "source": [
    "import pickle\n",
    "pickle.dump(model, open('house_prediction.pkl', 'wb'))"
   ]
  },
  {
   "cell_type": "code",
   "execution_count": 19,
   "metadata": {},
   "outputs": [],
   "source": [
    "y_pred = model.predict(X_test)"
   ]
  },
  {
   "cell_type": "code",
   "execution_count": 20,
   "metadata": {},
   "outputs": [
    {
     "name": "stdout",
     "output_type": "stream",
     "text": [
      "5.147140240483398\n"
     ]
    }
   ],
   "source": [
    "# Root Mean Squared Error(RMSE)\n",
    "# RMSE is the standard deviation of the residuals (prediction errors). \n",
    "# Residuals are a measure of how far from the regression line data points are, \n",
    "# and RMSE is a measure of how spread out these residuals are.\n",
    "\n",
    "from sklearn import metrics\n",
    "\n",
    "print(np.sqrt(metrics.mean_squared_error(y_test,y_pred)))"
   ]
  },
  {
   "cell_type": "code",
   "execution_count": 21,
   "metadata": {},
   "outputs": [],
   "source": [
    "pickle.dump(np.sqrt(metrics.mean_squared_error(y_test,y_pred)), open('stddev.pkl', 'wb'))"
   ]
  }
 ],
 "metadata": {
  "kernelspec": {
   "display_name": "Python 3",
   "language": "python",
   "name": "python3"
  },
  "language_info": {
   "codemirror_mode": {
    "name": "ipython",
    "version": 3
   },
   "file_extension": ".py",
   "mimetype": "text/x-python",
   "name": "python",
   "nbconvert_exporter": "python",
   "pygments_lexer": "ipython3",
   "version": "3.6.6"
  }
 },
 "nbformat": 4,
 "nbformat_minor": 1
}
